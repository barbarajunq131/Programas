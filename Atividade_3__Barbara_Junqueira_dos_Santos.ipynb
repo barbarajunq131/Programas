{
  "nbformat": 4,
  "nbformat_minor": 0,
  "metadata": {
    "colab": {
      "provenance": [],
      "authorship_tag": "ABX9TyMh5JALmlX8JPHfpBAJRbrk",
      "include_colab_link": true
    },
    "kernelspec": {
      "name": "python3",
      "display_name": "Python 3"
    },
    "language_info": {
      "name": "python"
    }
  },
  "cells": [
    {
      "cell_type": "markdown",
      "metadata": {
        "id": "view-in-github",
        "colab_type": "text"
      },
      "source": [
        "<a href=\"https://colab.research.google.com/github/barbarajunq131/Programas/blob/main/Atividade_3__Barbara_Junqueira_dos_Santos.ipynb\" target=\"_parent\"><img src=\"https://colab.research.google.com/assets/colab-badge.svg\" alt=\"Open In Colab\"/></a>"
      ]
    },
    {
      "cell_type": "markdown",
      "source": [
        "# Atividade 3 - Análise Exploratória e Visualização de Dados\n",
        "# Especialização em Análise de Dados - UERJ\n",
        "link colab: https://colab.research.google.com/drive/1Kf88JHTuP71osv68fuDwPkqlB8vDc1Wb#scrollTo=NrFz0t1otUsS&line=3&uniqifier=1\n",
        "\n"
      ],
      "metadata": {
        "id": "NrFz0t1otUsS"
      }
    },
    {
      "cell_type": "markdown",
      "source": [
        "Questão 1. Na tabela abaixo são dadas as notas de dois alunos em três provas que tinham pesos\n",
        "2, 3 e 5, respectivamente. Calcule as medianas e as modas dos dois alunos.\n",
        "Aluno 1a Prova 2a Prova 3a Prova\n",
        "Marcos   7         6          5\n",
        "Pedro    1         2          9"
      ],
      "metadata": {
        "id": "klenTEpMoE37"
      }
    },
    {
      "cell_type": "code",
      "source": [
        "import pandas as pd\n",
        "import numpy as np\n",
        "import seaborn as sns\n",
        "import matplotlib.pyplot as plt\n",
        "from scipy  import stats"
      ],
      "metadata": {
        "id": "2Zn_M3WMmTF7"
      },
      "execution_count": null,
      "outputs": []
    },
    {
      "cell_type": "code",
      "source": [
        "print(\"--- Questão 1 ---\")\n",
        "marcos = [7, 6, 5]\n",
        "pedro = [1, 2, 9]\n",
        "pesos = [2, 3, 5]\n",
        "\n",
        "# Cálculo de medianas e modas (sem pesos)\n",
        "print(\"Mediana Marcos:\", pd.Series(marcos).median())\n",
        "print(\"Mediana Pedro:\", pd.Series(pedro).median())\n",
        "print(\"Moda Marcos:\", stats.mode(marcos, keepdims=False).mode)\n",
        "print(\"Moda Pedro:\", stats.mode(pedro, keepdims=False).mode)\n",
        "\n",
        "# Cálculo da média ponderada\n",
        "media_ponderada_marcos = np.average(marcos, weights=pesos)\n",
        "media_ponderada_pedro = np.average(pedro, weights=pesos)\n",
        "print(\"Média ponderada Marcos:\", media_ponderada_marcos)\n",
        "print(\"Média ponderada Pedro:\", media_ponderada_pedro)"
      ],
      "metadata": {
        "colab": {
          "base_uri": "https://localhost:8080/"
        },
        "id": "QA4zrlF41axf",
        "outputId": "27bf3a14-e7ea-4e8f-a583-2033c45007e2"
      },
      "execution_count": null,
      "outputs": [
        {
          "output_type": "stream",
          "name": "stdout",
          "text": [
            "--- Questão 1 ---\n",
            "Mediana Marcos: 6.0\n",
            "Mediana Pedro: 2.0\n",
            "Moda Marcos: 5\n",
            "Moda Pedro: 1\n",
            "Média ponderada Marcos: 5.7\n",
            "Média ponderada Pedro: 5.3\n"
          ]
        }
      ]
    },
    {
      "cell_type": "markdown",
      "source": [
        "As medianas mostram o valor central das notas. Marcos tem mediana 6, enquanto Pedro tem mediana 2.\n",
        "A moda representa o valor mais frequente. Como todos os valores são únicos, tecnicamente não há moda definida.\n",
        "A média ponderada leva em conta os pesos das provas (2, 3 e 5). Marcos teve média ponderada 5.8 e Pedro 5.6."
      ],
      "metadata": {
        "id": "wJrppyDo1nhp"
      }
    },
    {
      "cell_type": "markdown",
      "source": [
        "____________________________________________________________________\n"
      ],
      "metadata": {
        "id": "rxQvckaoojES"
      }
    },
    {
      "cell_type": "markdown",
      "source": [
        "Questão 2. Considere os seguintes tempos (em minutos) que um grupo de estudantes levou para\n",
        "completar uma prova: 22, 24, 25, 27, 28, 29, 30, 31, 33, 35, 90.\n",
        "a) Identifique a mediana, os quartis, os limites inferior e superior e os possíveis outliers.\n",
        "b) Explique como o boxplot representa graficamente a presença de outliers nesse caso."
      ],
      "metadata": {
        "id": "2QAmV4P_ogzV"
      }
    },
    {
      "cell_type": "code",
      "source": [
        "print(\"\\n--- Questão 2 ---\")\n",
        "tempos = np.array([22, 24, 25, 27, 28, 29, 30, 31, 33, 35, 90])\n",
        "\n",
        "q1 = np.percentile(tempos, 25)\n",
        "q3 = np.percentile(tempos, 75)\n",
        "iqr = q3 - q1\n",
        "lim_inf = q1 - 1.5 * iqr\n",
        "lim_sup = q3 + 1.5 * iqr\n",
        "outliers = tempos[(tempos < lim_inf) | (tempos > lim_sup)]\n",
        "\n",
        "print(\"Mediana:\", np.median(tempos))\n",
        "print(\"Q1:\", q1, \"Q3:\", q3)\n",
        "print(\"Limite inferior:\", lim_inf, \"Limite superior:\", lim_sup)\n",
        "print(\"Outliers:\", outliers)\n",
        "\n",
        "sns.boxplot(data=tempos, orient='h')\n",
        "plt.title(\"Boxplot dos Tempos\")\n",
        "plt.show()"
      ],
      "metadata": {
        "colab": {
          "base_uri": "https://localhost:8080/",
          "height": 556
        },
        "id": "5S4aVjmGopn1",
        "outputId": "e741ebf0-ec73-4624-8f30-a82e80c4263d"
      },
      "execution_count": null,
      "outputs": [
        {
          "output_type": "stream",
          "name": "stdout",
          "text": [
            "\n",
            "--- Questão 2 ---\n",
            "Mediana: 29.0\n",
            "Q1: 26.0 Q3: 32.0\n",
            "Limite inferior: 17.0 Limite superior: 41.0\n",
            "Outliers: [90]\n"
          ]
        },
        {
          "output_type": "display_data",
          "data": {
            "text/plain": [
              "<Figure size 640x480 with 1 Axes>"
            ],
            "image/png": "[encoded data removed]"
          },
          "metadata": {}
        }
      ]
    },
    {
      "cell_type": "markdown",
      "source": [
        "A mediana é 29, os quartis Q1 e Q3 são 25.5 e 31.5, respectivamente.\n",
        "O valor 90 está fora dos limites (lim_sup = 43.5), sendo identificado como outlier.\n",
        "O boxplot mostra isso com um ponto fora da área superior."
      ],
      "metadata": {
        "id": "l6jYZczFo4eF"
      }
    },
    {
      "cell_type": "markdown",
      "source": [
        "________________________________________________________________________________\n"
      ],
      "metadata": {
        "id": "q--FYFAvprpP"
      }
    },
    {
      "cell_type": "markdown",
      "source": [
        "Questão 3. Um órgão do governo do estado está interessado em determinar padrões sobre o investimento em educação, por habitante, realizado pelas prefeituras. De um levantamento amostral de dez cidades, foram obtidos os valores (codificados) do quadro abaixo:\n",
        "Cidade       A   B  C D E   F  G H   I  J\n",
        "Investimento 20 16 14 8 19 15 14 16 19 18\n",
        "Nesse caso será considerado como investimento básico a média final das observações calculada da\n",
        "seguinte maneira:\n",
        "1. Obtém-se uma média inicial;\n",
        "2. Eliminam-se do conjunto aquelas observações que forem superiores à média inicial mais duas\n",
        "vezes o desvio padrão, ou inferiores à média inicial menos duas vezes o desvio padrão;\n",
        "3. Calcula-se a média final como novo conjunto de observações.\n",
        "Qual o investimento básico que você daria como resposta?"
      ],
      "metadata": {
        "id": "hF0AaIwKpptl"
      }
    },
    {
      "cell_type": "code",
      "source": [
        "print(\"\\n--- Questão 3 ---\")\n",
        "dados = np.array([20, 16, 14, 8, 19, 15, 14, 16, 19, 18])\n",
        "media_inicial = np.mean(dados)\n",
        "desvio = np.std(dados)\n",
        "\n",
        "lim_inf = media_inicial - 2 * desvio\n",
        "lim_sup = media_inicial + 2 * desvio\n",
        "\n",
        "filtrados = dados[(dados >= lim_inf) & (dados <= lim_sup)]\n",
        "media_final = np.mean(filtrados)\n",
        "\n",
        "print(\"Média inicial:\", media_inicial)\n",
        "print(\"Desvio padrão:\", desvio)\n",
        "print(\"Limites:\", lim_inf, lim_sup)\n",
        "print(\"Dados filtrados:\", filtrados)\n",
        "print(\"Média final (investimento básico):\", media_final)\n"
      ],
      "metadata": {
        "colab": {
          "base_uri": "https://localhost:8080/"
        },
        "id": "40qmr2YlqZK9",
        "outputId": "4319e6ab-7701-4a1b-e40c-a49d6abb43eb"
      },
      "execution_count": null,
      "outputs": [
        {
          "output_type": "stream",
          "name": "stdout",
          "text": [
            "\n",
            "--- Questão 3 ---\n",
            "Média inicial: 15.9\n",
            "Desvio padrão: 3.3301651610693423\n",
            "Limites: 9.239669677861315 22.560330322138686\n",
            "Dados filtrados: [20 16 14 19 15 14 16 19 18]\n",
            "Média final (investimento básico): 16.77777777777778\n"
          ]
        }
      ]
    },
    {
      "cell_type": "markdown",
      "source": [
        "_______________________________________________________________________________"
      ],
      "metadata": {
        "id": "FimEkkV_qxUE"
      }
    },
    {
      "cell_type": "markdown",
      "source": [
        "Questão 4. Um órgão de planejamento governamental está avaliando a distribuição da renda per\n",
        "capita entre os municípios de um determinado estado, com o objetivo de direcionar políticas públicas\n",
        "de combate à desigualdade. A equipe de análise produziu o seguinte resumo estatístico com base\n",
        "nos dados coletados:\n",
        "• Média: R$ 850,00\n",
        "• Mediana: R$ 700,00\n",
        "• Moda: R$ 600,00\n",
        "• Coeficiente de curtose: 5,2\n",
        "\n",
        "Com base nessas informações, responda às perguntas abaixo:\n",
        "a) Interprete a assimetria da distribuição da renda per capita. Que tipo de política pública pode ser\n",
        "sugerida com base nessa informação?\n",
        "b) O valor do coeficiente de curtose indica uma distribuição mais ou menos concentrada em torno da\n",
        "média? O que isso pode representar em termos de variação de renda entre os municípios?\n",
        "c) Explique, em termos práticos, por que conhecer medidas de formato (assimetria e curtose) é\n",
        "importante para o desenvolvimento de políticas públicas mais eficazes."
      ],
      "metadata": {
        "id": "v77lYd9NqoyV"
      }
    },
    {
      "cell_type": "code",
      "source": [
        "from IPython.display import Markdown"
      ],
      "metadata": {
        "id": "ZOE6PrONq75l"
      },
      "execution_count": null,
      "outputs": []
    },
    {
      "cell_type": "code",
      "source": [
        "# Parte a)\n",
        "display(Markdown(\"\"\"\n",
        "### Questão 4 - Interpretação da distribuição da renda per capita\n",
        "\n",
        "**a) Assimetria da distribuição:**\n",
        "\n",
        "A média (R$850) é maior que a mediana (R$700) e a moda (R$600), indicando **assimetria positiva (à direita)**.\n",
        "\n",
        "Significando que alguns municípios têm renda muito alta, o que eleva a média.\n",
        "\n",
        "**Política Pública sugerida:** Priorizar políticas públicas para municípios com renda **abaixo da mediana**.\n",
        "\"\"\"))\n",
        "\n",
        "# Parte b)\n",
        "display(Markdown(\"\"\"\n",
        "**b) Curtose:**\n",
        "\n",
        "O coeficiente de curtose é **5,2**, maior que o valor de referência **3**, indicando uma distribuição **leptocúrtica**.\n",
        "\n",
        "- Há maior concentração de valores próximos à média;\n",
        "- Existem **valores extremos** (municípios muito ricos ou muito pobres).\n",
        "\n",
        "**Implicação:** Existe **desigualdade significativa**, mesmo que a maioria dos municípios tenha rendas próximas.\n",
        "\"\"\"))\n",
        "\n",
        "# Parte c)\n",
        "display(Markdown(\"\"\"\n",
        "**c) Importância prática das medidas de forma:**\n",
        "\n",
        "- A **assimetria** ajuda a identificar a tendência dos dados (se estão concentrados em valores baixos ou altos).\n",
        "- A **curtose** mostra se os dados estão muito concentrados e se há muitos valores extremos.\n",
        "\n",
        "*Aplicação prática:* Auxilia na criação de políticas públicas mais justas, direcionando recursos para onde há **maior vulnerabilidade ou exclusão**.\n",
        "\"\"\"))\n"
      ],
      "metadata": {
        "colab": {
          "base_uri": "https://localhost:8080/",
          "height": 355
        },
        "id": "Q9hQ-GZnsNEz",
        "outputId": "8771bb27-ab6e-461f-8188-136fadd328e7"
      },
      "execution_count": null,
      "outputs": [
        {
          "output_type": "display_data",
          "data": {
            "text/plain": [
              "<IPython.core.display.Markdown object>"
            ],
            "text/markdown": "\n### Questão 4 - Interpretação da distribuição da renda per capita\n\n**a) Assimetria da distribuição:**\n\nA média (R$850) é maior que a mediana (R$700) e a moda (R$600), indicando **assimetria positiva (à direita)**.\n\nSignificando que alguns municípios têm renda muito alta, o que eleva a média.\n\n**Política Pública sugerida:** Priorizar políticas públicas para municípios com renda **abaixo da mediana**.\n"
          },
          "metadata": {}
        },
        {
          "output_type": "display_data",
          "data": {
            "text/plain": [
              "<IPython.core.display.Markdown object>"
            ],
            "text/markdown": "\n**b) Curtose:**\n\nO coeficiente de curtose é **5,2**, maior que o valor de referência **3**, indicando uma distribuição **leptocúrtica**.\n\n- Há maior concentração de valores próximos à média;\n- Existem **valores extremos** (municípios muito ricos ou muito pobres).\n\n**Implicação:** Existe **desigualdade significativa**, mesmo que a maioria dos municípios tenha rendas próximas.\n"
          },
          "metadata": {}
        },
        {
          "output_type": "display_data",
          "data": {
            "text/plain": [
              "<IPython.core.display.Markdown object>"
            ],
            "text/markdown": "\n**c) Importância prática das medidas de forma:**\n\n- A **assimetria** ajuda a identificar a tendência dos dados (se estão concentrados em valores baixos ou altos).\n- A **curtose** mostra se os dados estão muito concentrados e se há muitos valores extremos.\n\n*Aplicação prática:* Auxilia na criação de políticas públicas mais justas, direcionando recursos para onde há **maior vulnerabilidade ou exclusão**.\n"
          },
          "metadata": {}
        }
      ]
    }
  ]
}