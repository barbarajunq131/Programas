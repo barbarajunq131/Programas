{
  "nbformat": 4,
  "nbformat_minor": 0,
  "metadata": {
    "colab": {
      "provenance": [],
      "authorship_tag": "ABX9TyMS+NVI+gagHoUaweTmIINz",
      "include_colab_link": true
    },
    "kernelspec": {
      "name": "python3",
      "display_name": "Python 3"
    },
    "language_info": {
      "name": "python"
    }
  },
  "cells": [
    {
      "cell_type": "markdown",
      "metadata": {
        "id": "view-in-github",
        "colab_type": "text"
      },
      "source": [
        "<a href=\"https://colab.research.google.com/github/barbarajunq131/Programas/blob/main/exercicio_3_atrasado__desenvolvimento_regional.ipynb\" target=\"_parent\"><img src=\"https://colab.research.google.com/assets/colab-badge.svg\" alt=\"Open In Colab\"/></a>"
      ]
    },
    {
      "cell_type": "markdown",
      "source": [
        "Disciplina :  CEA0004 - Desenvolvimento Regional - T01 (2025.2) /n\n",
        "\n",
        "Aluna: Bárbara Junqueira dos Santos /n\n",
        "\n",
        "Matricula: 20252001826 /n\n",
        "\n",
        "Lista de exercício: 03/n\n",
        "\n",
        "link do colab: https://colab.research.google.com/drive/1uAEAi1xhBxP2-DjzaZ8kOV3vmvr0MlvS#scrollTo=PQXmsPBUL6z9"
      ],
      "metadata": {
        "id": "PQXmsPBUL6z9"
      }
    },
    {
      "cell_type": "markdown",
      "source": [
        "ATIVIDADE 3:\n",
        "Aplicação da Lei de Zipf à rede de cidades de um estado brasileiro\n",
        "\n",
        "\n",
        "1. Escolher um Estado da federação.\n",
        "\n",
        "2. Coletar dados da população dos municípios do Estado.\n",
        "\n",
        "Fonte sugerida: www.ipeadata.gov.br\n",
        "\n",
        "- Caminho: REGIONAL>Nível geográfico>Municípios>Temas>População.\n",
        "\n",
        "- Marcar “População Residente Total”;\n",
        "\n",
        "- Em “Escolha a abrangência”, escolher o estado de interesse;\n",
        "\n",
        "- Exportar planilha Excel nas opções no alto à direita;\n",
        "\n",
        "- Escolher o ano mais recente.\n",
        "\n",
        "3. De posse dos dados, ordenar a população dos municípios em ordem decrescente (do maior para o menor). Dica: Na aba “Dados”, use o comando “Classificar”.\n",
        "\n",
        "4. Criar mais uma coluna com o ranking: 1, 2, 3...\n",
        "\n",
        "5. No Excel, fazer um gráfico de dispersão (xy) em que x = posição no ranking (1, 2, 3, ...) e y = população dos municípios.\n",
        "\n",
        "6. Linearizar, fazendo log(x) e log(y); refazer o gráfico de dispersão. (*)\n",
        "\n",
        "7. Fazer um ajustamento linear simples, ilustrando no gráfico.\n",
        "\n",
        "- Clique com o botão direito sobre uma observação no gráfico e aparecerá a opção “adicionar linha de tendência”;\n",
        "\n",
        "- Na caixa que se abrirá, marcar as opções “Exibir equação no gráfico” e “Exibir valor de R-quadrado no gráfico”.\n",
        "\n",
        "8. Observar e interpretar, segundo a Lei de Zipf, o valor do parâmetro q (coeficiente de inclinação) e do coeficiente R2.\n",
        "\n",
        "________________________\n",
        "\n",
        "(*) A equação   pode ser linearizada fazendo-se Log(Pr)=log(P1) – qLog(r).\n"
      ],
      "metadata": {
        "id": "dOOwQZTKRSCD"
      }
    },
    {
      "cell_type": "markdown",
      "source": [
        "### 1. Instalar pacotes necessários\n",
        "\n"
      ],
      "metadata": {
        "id": "9KH25IQFRXMb"
      }
    },
    {
      "cell_type": "code",
      "source": [
        "!pip install pandas matplotlib numpy requests openpyxl --quiet"
      ],
      "metadata": {
        "id": "oDeH2C7tiKGU"
      },
      "execution_count": 17,
      "outputs": []
    },
    {
      "cell_type": "code",
      "source": [
        "import pandas as pd\n",
        "import numpy as np\n",
        "import matplotlib.pyplot as plt"
      ],
      "metadata": {
        "id": "PPHiZcW1dTgw"
      },
      "execution_count": 18,
      "outputs": []
    },
    {
      "cell_type": "markdown",
      "source": [
        "### 2. Coletar dados de população municipal no IPEA\n",
        "### Série: População residente total (IPEA)\n"
      ],
      "metadata": {
        "id": "sBndpUJEgVsH"
      }
    },
    {
      "cell_type": "code",
      "source": [
        "caminho = \"/content/ipeadata[30-10-2025-10-02].csv\"\n",
        "df = pd.read_csv(url, sep=';', encoding='latin1')"
      ],
      "metadata": {
        "id": "sYsvPYJGgb8a"
      },
      "execution_count": 39,
      "outputs": []
    },
    {
      "cell_type": "code",
      "source": [
        "df = pd.read_csv(caminho, sep=';', encoding='latin1', skiprows=1)\n"
      ],
      "metadata": {
        "id": "_m69GeHSdwah"
      },
      "execution_count": 40,
      "outputs": []
    },
    {
      "cell_type": "code",
      "source": [
        "print(\"Colunas encontradas:\", list(df.columns))\n",
        "df.head()"
      ],
      "metadata": {
        "colab": {
          "base_uri": "https://localhost:8080/",
          "height": 224
        },
        "id": "14febhdTz2Fz",
        "outputId": "93b690fc-4631-4261-fc3b-777b06d49e62"
      },
      "execution_count": 41,
      "outputs": [
        {
          "output_type": "stream",
          "name": "stdout",
          "text": [
            "Colunas encontradas: ['Sigla', 'CÃ³digo', 'MunicÃ\\xadpio', '2022', 'Unnamed: 4']\n"
          ]
        },
        {
          "output_type": "execute_result",
          "data": {
            "text/plain": [
              "  Sigla  CÃ³digo          MunicÃ­pio     2022  Unnamed: 4\n",
              "0    SP  3500105          Adamantina  34687.0         NaN\n",
              "1    SP  3500204              Adolfo   4351.0         NaN\n",
              "2    SP  3500303              AguaÃ­  32072.0         NaN\n",
              "3    SP  3500402     Ãguas da Prata   7369.0         NaN\n",
              "4    SP  3500501  Ãguas de LindÃ³ia  17930.0         NaN"
            ],
            "text/html": [
              "\n",
              "  <div id=\"df-ea7b0bce-8812-4158-bc13-0919064e3b09\" class=\"colab-df-container\">\n",
              "    <div>\n",
              "<style scoped>\n",
              "    .dataframe tbody tr th:only-of-type {\n",
              "        vertical-align: middle;\n",
              "    }\n",
              "\n",
              "    .dataframe tbody tr th {\n",
              "        vertical-align: top;\n",
              "    }\n",
              "\n",
              "    .dataframe thead th {\n",
              "        text-align: right;\n",
              "    }\n",
              "</style>\n",
              "<table border=\"1\" class=\"dataframe\">\n",
              "  <thead>\n",
              "    <tr style=\"text-align: right;\">\n",
              "      <th></th>\n",
              "      <th>Sigla</th>\n",
              "      <th>CÃ³digo</th>\n",
              "      <th>MunicÃ­pio</th>\n",
              "      <th>2022</th>\n",
              "      <th>Unnamed: 4</th>\n",
              "    </tr>\n",
              "  </thead>\n",
              "  <tbody>\n",
              "    <tr>\n",
              "      <th>0</th>\n",
              "      <td>SP</td>\n",
              "      <td>3500105</td>\n",
              "      <td>Adamantina</td>\n",
              "      <td>34687.0</td>\n",
              "      <td>NaN</td>\n",
              "    </tr>\n",
              "    <tr>\n",
              "      <th>1</th>\n",
              "      <td>SP</td>\n",
              "      <td>3500204</td>\n",
              "      <td>Adolfo</td>\n",
              "      <td>4351.0</td>\n",
              "      <td>NaN</td>\n",
              "    </tr>\n",
              "    <tr>\n",
              "      <th>2</th>\n",
              "      <td>SP</td>\n",
              "      <td>3500303</td>\n",
              "      <td>AguaÃ­</td>\n",
              "      <td>32072.0</td>\n",
              "      <td>NaN</td>\n",
              "    </tr>\n",
              "    <tr>\n",
              "      <th>3</th>\n",
              "      <td>SP</td>\n",
              "      <td>3500402</td>\n",
              "      <td>Ãguas da Prata</td>\n",
              "      <td>7369.0</td>\n",
              "      <td>NaN</td>\n",
              "    </tr>\n",
              "    <tr>\n",
              "      <th>4</th>\n",
              "      <td>SP</td>\n",
              "      <td>3500501</td>\n",
              "      <td>Ãguas de LindÃ³ia</td>\n",
              "      <td>17930.0</td>\n",
              "      <td>NaN</td>\n",
              "    </tr>\n",
              "  </tbody>\n",
              "</table>\n",
              "</div>\n",
              "    <div class=\"colab-df-buttons\">\n",
              "\n",
              "  <div class=\"colab-df-container\">\n",
              "    <button class=\"colab-df-convert\" onclick=\"convertToInteractive('df-ea7b0bce-8812-4158-bc13-0919064e3b09')\"\n",
              "            title=\"Convert this dataframe to an interactive table.\"\n",
              "            style=\"display:none;\">\n",
              "\n",
              "  <svg xmlns=\"http://www.w3.org/2000/svg\" height=\"24px\" viewBox=\"0 -960 960 960\">\n",
              "    <path d=\"M120-120v-720h720v720H120Zm60-500h600v-160H180v160Zm220 220h160v-160H400v160Zm0 220h160v-160H400v160ZM180-400h160v-160H180v160Zm440 0h160v-160H620v160ZM180-180h160v-160H180v160Zm440 0h160v-160H620v160Z\"/>\n",
              "  </svg>\n",
              "    </button>\n",
              "\n",
              "  <style>\n",
              "    .colab-df-container {\n",
              "      display:flex;\n",
              "      gap: 12px;\n",
              "    }\n",
              "\n",
              "    .colab-df-convert {\n",
              "      background-color: #E8F0FE;\n",
              "      border: none;\n",
              "      border-radius: 50%;\n",
              "      cursor: pointer;\n",
              "      display: none;\n",
              "      fill: #1967D2;\n",
              "      height: 32px;\n",
              "      padding: 0 0 0 0;\n",
              "      width: 32px;\n",
              "    }\n",
              "\n",
              "    .colab-df-convert:hover {\n",
              "      background-color: #E2EBFA;\n",
              "      box-shadow: 0px 1px 2px rgba(60, 64, 67, 0.3), 0px 1px 3px 1px rgba(60, 64, 67, 0.15);\n",
              "      fill: #174EA6;\n",
              "    }\n",
              "\n",
              "    .colab-df-buttons div {\n",
              "      margin-bottom: 4px;\n",
              "    }\n",
              "\n",
              "    [theme=dark] .colab-df-convert {\n",
              "      background-color: #3B4455;\n",
              "      fill: #D2E3FC;\n",
              "    }\n",
              "\n",
              "    [theme=dark] .colab-df-convert:hover {\n",
              "      background-color: #434B5C;\n",
              "      box-shadow: 0px 1px 3px 1px rgba(0, 0, 0, 0.15);\n",
              "      filter: drop-shadow(0px 1px 2px rgba(0, 0, 0, 0.3));\n",
              "      fill: #FFFFFF;\n",
              "    }\n",
              "  </style>\n",
              "\n",
              "    <script>\n",
              "      const buttonEl =\n",
              "        document.querySelector('#df-ea7b0bce-8812-4158-bc13-0919064e3b09 button.colab-df-convert');\n",
              "      buttonEl.style.display =\n",
              "        google.colab.kernel.accessAllowed ? 'block' : 'none';\n",
              "\n",
              "      async function convertToInteractive(key) {\n",
              "        const element = document.querySelector('#df-ea7b0bce-8812-4158-bc13-0919064e3b09');\n",
              "        const dataTable =\n",
              "          await google.colab.kernel.invokeFunction('convertToInteractive',\n",
              "                                                    [key], {});\n",
              "        if (!dataTable) return;\n",
              "\n",
              "        const docLinkHtml = 'Like what you see? Visit the ' +\n",
              "          '<a target=\"_blank\" href=https://colab.research.google.com/notebooks/data_table.ipynb>data table notebook</a>'\n",
              "          + ' to learn more about interactive tables.';\n",
              "        element.innerHTML = '';\n",
              "        dataTable['output_type'] = 'display_data';\n",
              "        await google.colab.output.renderOutput(dataTable, element);\n",
              "        const docLink = document.createElement('div');\n",
              "        docLink.innerHTML = docLinkHtml;\n",
              "        element.appendChild(docLink);\n",
              "      }\n",
              "    </script>\n",
              "  </div>\n",
              "\n",
              "\n",
              "    <div id=\"df-b544df39-7847-4a34-9d6c-83640bd9c6ca\">\n",
              "      <button class=\"colab-df-quickchart\" onclick=\"quickchart('df-b544df39-7847-4a34-9d6c-83640bd9c6ca')\"\n",
              "                title=\"Suggest charts\"\n",
              "                style=\"display:none;\">\n",
              "\n",
              "<svg xmlns=\"http://www.w3.org/2000/svg\" height=\"24px\"viewBox=\"0 0 24 24\"\n",
              "     width=\"24px\">\n",
              "    <g>\n",
              "        <path d=\"M19 3H5c-1.1 0-2 .9-2 2v14c0 1.1.9 2 2 2h14c1.1 0 2-.9 2-2V5c0-1.1-.9-2-2-2zM9 17H7v-7h2v7zm4 0h-2V7h2v10zm4 0h-2v-4h2v4z\"/>\n",
              "    </g>\n",
              "</svg>\n",
              "      </button>\n",
              "\n",
              "<style>\n",
              "  .colab-df-quickchart {\n",
              "      --bg-color: #E8F0FE;\n",
              "      --fill-color: #1967D2;\n",
              "      --hover-bg-color: #E2EBFA;\n",
              "      --hover-fill-color: #174EA6;\n",
              "      --disabled-fill-color: #AAA;\n",
              "      --disabled-bg-color: #DDD;\n",
              "  }\n",
              "\n",
              "  [theme=dark] .colab-df-quickchart {\n",
              "      --bg-color: #3B4455;\n",
              "      --fill-color: #D2E3FC;\n",
              "      --hover-bg-color: #434B5C;\n",
              "      --hover-fill-color: #FFFFFF;\n",
              "      --disabled-bg-color: #3B4455;\n",
              "      --disabled-fill-color: #666;\n",
              "  }\n",
              "\n",
              "  .colab-df-quickchart {\n",
              "    background-color: var(--bg-color);\n",
              "    border: none;\n",
              "    border-radius: 50%;\n",
              "    cursor: pointer;\n",
              "    display: none;\n",
              "    fill: var(--fill-color);\n",
              "    height: 32px;\n",
              "    padding: 0;\n",
              "    width: 32px;\n",
              "  }\n",
              "\n",
              "  .colab-df-quickchart:hover {\n",
              "    background-color: var(--hover-bg-color);\n",
              "    box-shadow: 0 1px 2px rgba(60, 64, 67, 0.3), 0 1px 3px 1px rgba(60, 64, 67, 0.15);\n",
              "    fill: var(--button-hover-fill-color);\n",
              "  }\n",
              "\n",
              "  .colab-df-quickchart-complete:disabled,\n",
              "  .colab-df-quickchart-complete:disabled:hover {\n",
              "    background-color: var(--disabled-bg-color);\n",
              "    fill: var(--disabled-fill-color);\n",
              "    box-shadow: none;\n",
              "  }\n",
              "\n",
              "  .colab-df-spinner {\n",
              "    border: 2px solid var(--fill-color);\n",
              "    border-color: transparent;\n",
              "    border-bottom-color: var(--fill-color);\n",
              "    animation:\n",
              "      spin 1s steps(1) infinite;\n",
              "  }\n",
              "\n",
              "  @keyframes spin {\n",
              "    0% {\n",
              "      border-color: transparent;\n",
              "      border-bottom-color: var(--fill-color);\n",
              "      border-left-color: var(--fill-color);\n",
              "    }\n",
              "    20% {\n",
              "      border-color: transparent;\n",
              "      border-left-color: var(--fill-color);\n",
              "      border-top-color: var(--fill-color);\n",
              "    }\n",
              "    30% {\n",
              "      border-color: transparent;\n",
              "      border-left-color: var(--fill-color);\n",
              "      border-top-color: var(--fill-color);\n",
              "      border-right-color: var(--fill-color);\n",
              "    }\n",
              "    40% {\n",
              "      border-color: transparent;\n",
              "      border-right-color: var(--fill-color);\n",
              "      border-top-color: var(--fill-color);\n",
              "    }\n",
              "    60% {\n",
              "      border-color: transparent;\n",
              "      border-right-color: var(--fill-color);\n",
              "    }\n",
              "    80% {\n",
              "      border-color: transparent;\n",
              "      border-right-color: var(--fill-color);\n",
              "      border-bottom-color: var(--fill-color);\n",
              "    }\n",
              "    90% {\n",
              "      border-color: transparent;\n",
              "      border-bottom-color: var(--fill-color);\n",
              "    }\n",
              "  }\n",
              "</style>\n",
              "\n",
              "      <script>\n",
              "        async function quickchart(key) {\n",
              "          const quickchartButtonEl =\n",
              "            document.querySelector('#' + key + ' button');\n",
              "          quickchartButtonEl.disabled = true;  // To prevent multiple clicks.\n",
              "          quickchartButtonEl.classList.add('colab-df-spinner');\n",
              "          try {\n",
              "            const charts = await google.colab.kernel.invokeFunction(\n",
              "                'suggestCharts', [key], {});\n",
              "          } catch (error) {\n",
              "            console.error('Error during call to suggestCharts:', error);\n",
              "          }\n",
              "          quickchartButtonEl.classList.remove('colab-df-spinner');\n",
              "          quickchartButtonEl.classList.add('colab-df-quickchart-complete');\n",
              "        }\n",
              "        (() => {\n",
              "          let quickchartButtonEl =\n",
              "            document.querySelector('#df-b544df39-7847-4a34-9d6c-83640bd9c6ca button');\n",
              "          quickchartButtonEl.style.display =\n",
              "            google.colab.kernel.accessAllowed ? 'block' : 'none';\n",
              "        })();\n",
              "      </script>\n",
              "    </div>\n",
              "\n",
              "    </div>\n",
              "  </div>\n"
            ],
            "application/vnd.google.colaboratory.intrinsic+json": {
              "type": "dataframe",
              "variable_name": "df",
              "summary": "{\n  \"name\": \"df\",\n  \"rows\": 646,\n  \"fields\": [\n    {\n      \"column\": \"Sigla\",\n      \"properties\": {\n        \"dtype\": \"category\",\n        \"num_unique_values\": 1,\n        \"samples\": [\n          \"SP\"\n        ],\n        \"semantic_type\": \"\",\n        \"description\": \"\"\n      }\n    },\n    {\n      \"column\": \"C\\u00c3\\u00b3digo\",\n      \"properties\": {\n        \"dtype\": \"number\",\n        \"std\": 16921,\n        \"min\": 3500105,\n        \"max\": 3599919,\n        \"num_unique_values\": 646,\n        \"samples\": [\n          3556453\n        ],\n        \"semantic_type\": \"\",\n        \"description\": \"\"\n      }\n    },\n    {\n      \"column\": \"Munic\\u00c3\\u00adpio\",\n      \"properties\": {\n        \"dtype\": \"string\",\n        \"num_unique_values\": 646,\n        \"samples\": [\n          \"Vargem Grande Paulista\"\n        ],\n        \"semantic_type\": \"\",\n        \"description\": \"\"\n      }\n    },\n    {\n      \"column\": \"2022\",\n      \"properties\": {\n        \"dtype\": \"number\",\n        \"std\": 464421.00091492385,\n        \"min\": 907.0,\n        \"max\": 11451999.0,\n        \"num_unique_values\": 638,\n        \"samples\": [\n          14085.0\n        ],\n        \"semantic_type\": \"\",\n        \"description\": \"\"\n      }\n    },\n    {\n      \"column\": \"Unnamed: 4\",\n      \"properties\": {\n        \"dtype\": \"number\",\n        \"std\": null,\n        \"min\": null,\n        \"max\": null,\n        \"num_unique_values\": 0,\n        \"samples\": [],\n        \"semantic_type\": \"\",\n        \"description\": \"\"\n      }\n    }\n  ]\n}"
            }
          },
          "metadata": {},
          "execution_count": 41
        }
      ]
    },
    {
      "cell_type": "markdown",
      "source": [
        "### 3.Renomear colunas\n"
      ],
      "metadata": {
        "id": "OAFaXlJk1ULC"
      }
    },
    {
      "cell_type": "code",
      "source": [
        "df.columns = df.columns.str.strip()\n",
        "df = df.rename(columns={\n",
        "    'Sigla': 'UF',\n",
        "    'CÃ³digo': 'Codigo',\n",
        "    'MunicÃ\\xadpio': 'Municipio',\n",
        "    '2022': 'Populacao'\n",
        "})"
      ],
      "metadata": {
        "id": "skzoyGad1Wvk"
      },
      "execution_count": 42,
      "outputs": []
    },
    {
      "cell_type": "markdown",
      "source": [
        "### 4. Corrigir nomes dos municípios"
      ],
      "metadata": {
        "id": "uOeVN1Cv3g0E"
      }
    },
    {
      "cell_type": "code",
      "source": [
        "df['Municipio'] = df['Municipio'].str.encode('latin1').str.decode('utf-8')"
      ],
      "metadata": {
        "id": "aon3nOZj4-tN"
      },
      "execution_count": 43,
      "outputs": []
    },
    {
      "cell_type": "markdown",
      "source": [
        "### 5. Eliminar colunas que não serão usadas"
      ],
      "metadata": {
        "id": "RDNjcHJJ5FLx"
      }
    },
    {
      "cell_type": "code",
      "source": [
        "if 'Unnamed: 4' in df.columns:\n",
        "    df = df.drop(columns=['Unnamed: 4'])"
      ],
      "metadata": {
        "id": "jHpv0KXj5KZI"
      },
      "execution_count": 44,
      "outputs": []
    },
    {
      "cell_type": "markdown",
      "source": [
        "### 4.Ordenar e criar ranking\n"
      ],
      "metadata": {
        "id": "IJUveRcb3Djz"
      }
    },
    {
      "cell_type": "code",
      "source": [
        "df = df.sort_values(by='Populacao', ascending=False)\n",
        "df['Ranking'] = np.arange(1, len(df) + 1)\n",
        "df.head(30)"
      ],
      "metadata": {
        "colab": {
          "base_uri": "https://localhost:8080/",
          "height": 990
        },
        "id": "5FiHKDFh4JMI",
        "outputId": "2969b792-6863-40f4-c2c2-5bd219b152e9"
      },
      "execution_count": 52,
      "outputs": [
        {
          "output_type": "execute_result",
          "data": {
            "text/plain": [
              "     UF   Codigo              Municipio   Populacao  Ranking\n",
              "562  SP  3550308              São Paulo  11451999.0        1\n",
              "212  SP  3518800              Guarulhos   1291771.0        2\n",
              "108  SP  3509502               Campinas   1139047.0        3\n",
              "544  SP  3548708  São Bernardo do Campo    810729.0        4\n",
              "534  SP  3547809            Santo André    748919.0        5\n",
              "387  SP  3534401                 Osasco    728615.0        6\n",
              "581  SP  3552205               Sorocaba    723682.0        7\n",
              "487  SP  3543402         Ribeirão Preto    698642.0        8\n",
              "557  SP  3549904    São José dos Campos    697054.0        9\n",
              "556  SP  3549805  São José do Rio Preto    480393.0       10\n",
              "343  SP  3530607        Moji das Cruzes    451505.0       11\n",
              "293  SP  3525904                Jundiaí    443221.0       12\n",
              "433  SP  3538709             Piracicaba    423323.0       13\n",
              "542  SP  3548500                 Santos    418608.0       14\n",
              "330  SP  3529401                   Mauá    418261.0       15\n",
              "152  SP  3513801                Diadema    393237.0       16\n",
              "121  SP  3510609            Carapicuíba    386984.0       17\n",
              "67   SP  3506003                  Bauru    379146.0       18\n",
              "264  SP  3523107        Itaquaquecetuba    369275.0       19\n",
              "185  SP  3516200                 Franca    352536.0       20\n",
              "459  SP  3541000           Praia Grande    349935.0       21\n",
              "569  SP  3551009            São Vicente    329911.0       22\n",
              "64   SP  3505708                Barueri    316473.0       23\n",
              "604  SP  3554102                Taubaté    310739.0       24\n",
              "584  SP  3552502                 Suzano    307429.0       25\n",
              "303  SP  3526902                Limeira    291869.0       26\n",
              "211  SP  3518701                Guarujá    287634.0       27\n",
              "583  SP  3552403                 Sumaré    279545.0       28\n",
              "144  SP  3513009                  Cotia    274413.0       29\n",
              "588  SP  3552809        Taboão da Serra    273542.0       30"
            ],
            "text/html": [
              "\n",
              "  <div id=\"df-03aa4ea8-a1ab-4d2c-9077-66cb1b58b21c\" class=\"colab-df-container\">\n",
              "    <div>\n",
              "<style scoped>\n",
              "    .dataframe tbody tr th:only-of-type {\n",
              "        vertical-align: middle;\n",
              "    }\n",
              "\n",
              "    .dataframe tbody tr th {\n",
              "        vertical-align: top;\n",
              "    }\n",
              "\n",
              "    .dataframe thead th {\n",
              "        text-align: right;\n",
              "    }\n",
              "</style>\n",
              "<table border=\"1\" class=\"dataframe\">\n",
              "  <thead>\n",
              "    <tr style=\"text-align: right;\">\n",
              "      <th></th>\n",
              "      <th>UF</th>\n",
              "      <th>Codigo</th>\n",
              "      <th>Municipio</th>\n",
              "      <th>Populacao</th>\n",
              "      <th>Ranking</th>\n",
              "    </tr>\n",
              "  </thead>\n",
              "  <tbody>\n",
              "    <tr>\n",
              "      <th>562</th>\n",
              "      <td>SP</td>\n",
              "      <td>3550308</td>\n",
              "      <td>São Paulo</td>\n",
              "      <td>11451999.0</td>\n",
              "      <td>1</td>\n",
              "    </tr>\n",
              "    <tr>\n",
              "      <th>212</th>\n",
              "      <td>SP</td>\n",
              "      <td>3518800</td>\n",
              "      <td>Guarulhos</td>\n",
              "      <td>1291771.0</td>\n",
              "      <td>2</td>\n",
              "    </tr>\n",
              "    <tr>\n",
              "      <th>108</th>\n",
              "      <td>SP</td>\n",
              "      <td>3509502</td>\n",
              "      <td>Campinas</td>\n",
              "      <td>1139047.0</td>\n",
              "      <td>3</td>\n",
              "    </tr>\n",
              "    <tr>\n",
              "      <th>544</th>\n",
              "      <td>SP</td>\n",
              "      <td>3548708</td>\n",
              "      <td>São Bernardo do Campo</td>\n",
              "      <td>810729.0</td>\n",
              "      <td>4</td>\n",
              "    </tr>\n",
              "    <tr>\n",
              "      <th>534</th>\n",
              "      <td>SP</td>\n",
              "      <td>3547809</td>\n",
              "      <td>Santo André</td>\n",
              "      <td>748919.0</td>\n",
              "      <td>5</td>\n",
              "    </tr>\n",
              "    <tr>\n",
              "      <th>387</th>\n",
              "      <td>SP</td>\n",
              "      <td>3534401</td>\n",
              "      <td>Osasco</td>\n",
              "      <td>728615.0</td>\n",
              "      <td>6</td>\n",
              "    </tr>\n",
              "    <tr>\n",
              "      <th>581</th>\n",
              "      <td>SP</td>\n",
              "      <td>3552205</td>\n",
              "      <td>Sorocaba</td>\n",
              "      <td>723682.0</td>\n",
              "      <td>7</td>\n",
              "    </tr>\n",
              "    <tr>\n",
              "      <th>487</th>\n",
              "      <td>SP</td>\n",
              "      <td>3543402</td>\n",
              "      <td>Ribeirão Preto</td>\n",
              "      <td>698642.0</td>\n",
              "      <td>8</td>\n",
              "    </tr>\n",
              "    <tr>\n",
              "      <th>557</th>\n",
              "      <td>SP</td>\n",
              "      <td>3549904</td>\n",
              "      <td>São José dos Campos</td>\n",
              "      <td>697054.0</td>\n",
              "      <td>9</td>\n",
              "    </tr>\n",
              "    <tr>\n",
              "      <th>556</th>\n",
              "      <td>SP</td>\n",
              "      <td>3549805</td>\n",
              "      <td>São José do Rio Preto</td>\n",
              "      <td>480393.0</td>\n",
              "      <td>10</td>\n",
              "    </tr>\n",
              "    <tr>\n",
              "      <th>343</th>\n",
              "      <td>SP</td>\n",
              "      <td>3530607</td>\n",
              "      <td>Moji das Cruzes</td>\n",
              "      <td>451505.0</td>\n",
              "      <td>11</td>\n",
              "    </tr>\n",
              "    <tr>\n",
              "      <th>293</th>\n",
              "      <td>SP</td>\n",
              "      <td>3525904</td>\n",
              "      <td>Jundiaí</td>\n",
              "      <td>443221.0</td>\n",
              "      <td>12</td>\n",
              "    </tr>\n",
              "    <tr>\n",
              "      <th>433</th>\n",
              "      <td>SP</td>\n",
              "      <td>3538709</td>\n",
              "      <td>Piracicaba</td>\n",
              "      <td>423323.0</td>\n",
              "      <td>13</td>\n",
              "    </tr>\n",
              "    <tr>\n",
              "      <th>542</th>\n",
              "      <td>SP</td>\n",
              "      <td>3548500</td>\n",
              "      <td>Santos</td>\n",
              "      <td>418608.0</td>\n",
              "      <td>14</td>\n",
              "    </tr>\n",
              "    <tr>\n",
              "      <th>330</th>\n",
              "      <td>SP</td>\n",
              "      <td>3529401</td>\n",
              "      <td>Mauá</td>\n",
              "      <td>418261.0</td>\n",
              "      <td>15</td>\n",
              "    </tr>\n",
              "    <tr>\n",
              "      <th>152</th>\n",
              "      <td>SP</td>\n",
              "      <td>3513801</td>\n",
              "      <td>Diadema</td>\n",
              "      <td>393237.0</td>\n",
              "      <td>16</td>\n",
              "    </tr>\n",
              "    <tr>\n",
              "      <th>121</th>\n",
              "      <td>SP</td>\n",
              "      <td>3510609</td>\n",
              "      <td>Carapicuíba</td>\n",
              "      <td>386984.0</td>\n",
              "      <td>17</td>\n",
              "    </tr>\n",
              "    <tr>\n",
              "      <th>67</th>\n",
              "      <td>SP</td>\n",
              "      <td>3506003</td>\n",
              "      <td>Bauru</td>\n",
              "      <td>379146.0</td>\n",
              "      <td>18</td>\n",
              "    </tr>\n",
              "    <tr>\n",
              "      <th>264</th>\n",
              "      <td>SP</td>\n",
              "      <td>3523107</td>\n",
              "      <td>Itaquaquecetuba</td>\n",
              "      <td>369275.0</td>\n",
              "      <td>19</td>\n",
              "    </tr>\n",
              "    <tr>\n",
              "      <th>185</th>\n",
              "      <td>SP</td>\n",
              "      <td>3516200</td>\n",
              "      <td>Franca</td>\n",
              "      <td>352536.0</td>\n",
              "      <td>20</td>\n",
              "    </tr>\n",
              "    <tr>\n",
              "      <th>459</th>\n",
              "      <td>SP</td>\n",
              "      <td>3541000</td>\n",
              "      <td>Praia Grande</td>\n",
              "      <td>349935.0</td>\n",
              "      <td>21</td>\n",
              "    </tr>\n",
              "    <tr>\n",
              "      <th>569</th>\n",
              "      <td>SP</td>\n",
              "      <td>3551009</td>\n",
              "      <td>São Vicente</td>\n",
              "      <td>329911.0</td>\n",
              "      <td>22</td>\n",
              "    </tr>\n",
              "    <tr>\n",
              "      <th>64</th>\n",
              "      <td>SP</td>\n",
              "      <td>3505708</td>\n",
              "      <td>Barueri</td>\n",
              "      <td>316473.0</td>\n",
              "      <td>23</td>\n",
              "    </tr>\n",
              "    <tr>\n",
              "      <th>604</th>\n",
              "      <td>SP</td>\n",
              "      <td>3554102</td>\n",
              "      <td>Taubaté</td>\n",
              "      <td>310739.0</td>\n",
              "      <td>24</td>\n",
              "    </tr>\n",
              "    <tr>\n",
              "      <th>584</th>\n",
              "      <td>SP</td>\n",
              "      <td>3552502</td>\n",
              "      <td>Suzano</td>\n",
              "      <td>307429.0</td>\n",
              "      <td>25</td>\n",
              "    </tr>\n",
              "    <tr>\n",
              "      <th>303</th>\n",
              "      <td>SP</td>\n",
              "      <td>3526902</td>\n",
              "      <td>Limeira</td>\n",
              "      <td>291869.0</td>\n",
              "      <td>26</td>\n",
              "    </tr>\n",
              "    <tr>\n",
              "      <th>211</th>\n",
              "      <td>SP</td>\n",
              "      <td>3518701</td>\n",
              "      <td>Guarujá</td>\n",
              "      <td>287634.0</td>\n",
              "      <td>27</td>\n",
              "    </tr>\n",
              "    <tr>\n",
              "      <th>583</th>\n",
              "      <td>SP</td>\n",
              "      <td>3552403</td>\n",
              "      <td>Sumaré</td>\n",
              "      <td>279545.0</td>\n",
              "      <td>28</td>\n",
              "    </tr>\n",
              "    <tr>\n",
              "      <th>144</th>\n",
              "      <td>SP</td>\n",
              "      <td>3513009</td>\n",
              "      <td>Cotia</td>\n",
              "      <td>274413.0</td>\n",
              "      <td>29</td>\n",
              "    </tr>\n",
              "    <tr>\n",
              "      <th>588</th>\n",
              "      <td>SP</td>\n",
              "      <td>3552809</td>\n",
              "      <td>Taboão da Serra</td>\n",
              "      <td>273542.0</td>\n",
              "      <td>30</td>\n",
              "    </tr>\n",
              "  </tbody>\n",
              "</table>\n",
              "</div>\n",
              "    <div class=\"colab-df-buttons\">\n",
              "\n",
              "  <div class=\"colab-df-container\">\n",
              "    <button class=\"colab-df-convert\" onclick=\"convertToInteractive('df-03aa4ea8-a1ab-4d2c-9077-66cb1b58b21c')\"\n",
              "            title=\"Convert this dataframe to an interactive table.\"\n",
              "            style=\"display:none;\">\n",
              "\n",
              "  <svg xmlns=\"http://www.w3.org/2000/svg\" height=\"24px\" viewBox=\"0 -960 960 960\">\n",
              "    <path d=\"M120-120v-720h720v720H120Zm60-500h600v-160H180v160Zm220 220h160v-160H400v160Zm0 220h160v-160H400v160ZM180-400h160v-160H180v160Zm440 0h160v-160H620v160ZM180-180h160v-160H180v160Zm440 0h160v-160H620v160Z\"/>\n",
              "  </svg>\n",
              "    </button>\n",
              "\n",
              "  <style>\n",
              "    .colab-df-container {\n",
              "      display:flex;\n",
              "      gap: 12px;\n",
              "    }\n",
              "\n",
              "    .colab-df-convert {\n",
              "      background-color: #E8F0FE;\n",
              "      border: none;\n",
              "      border-radius: 50%;\n",
              "      cursor: pointer;\n",
              "      display: none;\n",
              "      fill: #1967D2;\n",
              "      height: 32px;\n",
              "      padding: 0 0 0 0;\n",
              "      width: 32px;\n",
              "    }\n",
              "\n",
              "    .colab-df-convert:hover {\n",
              "      background-color: #E2EBFA;\n",
              "      box-shadow: 0px 1px 2px rgba(60, 64, 67, 0.3), 0px 1px 3px 1px rgba(60, 64, 67, 0.15);\n",
              "      fill: #174EA6;\n",
              "    }\n",
              "\n",
              "    .colab-df-buttons div {\n",
              "      margin-bottom: 4px;\n",
              "    }\n",
              "\n",
              "    [theme=dark] .colab-df-convert {\n",
              "      background-color: #3B4455;\n",
              "      fill: #D2E3FC;\n",
              "    }\n",
              "\n",
              "    [theme=dark] .colab-df-convert:hover {\n",
              "      background-color: #434B5C;\n",
              "      box-shadow: 0px 1px 3px 1px rgba(0, 0, 0, 0.15);\n",
              "      filter: drop-shadow(0px 1px 2px rgba(0, 0, 0, 0.3));\n",
              "      fill: #FFFFFF;\n",
              "    }\n",
              "  </style>\n",
              "\n",
              "    <script>\n",
              "      const buttonEl =\n",
              "        document.querySelector('#df-03aa4ea8-a1ab-4d2c-9077-66cb1b58b21c button.colab-df-convert');\n",
              "      buttonEl.style.display =\n",
              "        google.colab.kernel.accessAllowed ? 'block' : 'none';\n",
              "\n",
              "      async function convertToInteractive(key) {\n",
              "        const element = document.querySelector('#df-03aa4ea8-a1ab-4d2c-9077-66cb1b58b21c');\n",
              "        const dataTable =\n",
              "          await google.colab.kernel.invokeFunction('convertToInteractive',\n",
              "                                                    [key], {});\n",
              "        if (!dataTable) return;\n",
              "\n",
              "        const docLinkHtml = 'Like what you see? Visit the ' +\n",
              "          '<a target=\"_blank\" href=https://colab.research.google.com/notebooks/data_table.ipynb>data table notebook</a>'\n",
              "          + ' to learn more about interactive tables.';\n",
              "        element.innerHTML = '';\n",
              "        dataTable['output_type'] = 'display_data';\n",
              "        await google.colab.output.renderOutput(dataTable, element);\n",
              "        const docLink = document.createElement('div');\n",
              "        docLink.innerHTML = docLinkHtml;\n",
              "        element.appendChild(docLink);\n",
              "      }\n",
              "    </script>\n",
              "  </div>\n",
              "\n",
              "\n",
              "    <div id=\"df-24aa14d5-e03b-4464-be6b-044695695445\">\n",
              "      <button class=\"colab-df-quickchart\" onclick=\"quickchart('df-24aa14d5-e03b-4464-be6b-044695695445')\"\n",
              "                title=\"Suggest charts\"\n",
              "                style=\"display:none;\">\n",
              "\n",
              "<svg xmlns=\"http://www.w3.org/2000/svg\" height=\"24px\"viewBox=\"0 0 24 24\"\n",
              "     width=\"24px\">\n",
              "    <g>\n",
              "        <path d=\"M19 3H5c-1.1 0-2 .9-2 2v14c0 1.1.9 2 2 2h14c1.1 0 2-.9 2-2V5c0-1.1-.9-2-2-2zM9 17H7v-7h2v7zm4 0h-2V7h2v10zm4 0h-2v-4h2v4z\"/>\n",
              "    </g>\n",
              "</svg>\n",
              "      </button>\n",
              "\n",
              "<style>\n",
              "  .colab-df-quickchart {\n",
              "      --bg-color: #E8F0FE;\n",
              "      --fill-color: #1967D2;\n",
              "      --hover-bg-color: #E2EBFA;\n",
              "      --hover-fill-color: #174EA6;\n",
              "      --disabled-fill-color: #AAA;\n",
              "      --disabled-bg-color: #DDD;\n",
              "  }\n",
              "\n",
              "  [theme=dark] .colab-df-quickchart {\n",
              "      --bg-color: #3B4455;\n",
              "      --fill-color: #D2E3FC;\n",
              "      --hover-bg-color: #434B5C;\n",
              "      --hover-fill-color: #FFFFFF;\n",
              "      --disabled-bg-color: #3B4455;\n",
              "      --disabled-fill-color: #666;\n",
              "  }\n",
              "\n",
              "  .colab-df-quickchart {\n",
              "    background-color: var(--bg-color);\n",
              "    border: none;\n",
              "    border-radius: 50%;\n",
              "    cursor: pointer;\n",
              "    display: none;\n",
              "    fill: var(--fill-color);\n",
              "    height: 32px;\n",
              "    padding: 0;\n",
              "    width: 32px;\n",
              "  }\n",
              "\n",
              "  .colab-df-quickchart:hover {\n",
              "    background-color: var(--hover-bg-color);\n",
              "    box-shadow: 0 1px 2px rgba(60, 64, 67, 0.3), 0 1px 3px 1px rgba(60, 64, 67, 0.15);\n",
              "    fill: var(--button-hover-fill-color);\n",
              "  }\n",
              "\n",
              "  .colab-df-quickchart-complete:disabled,\n",
              "  .colab-df-quickchart-complete:disabled:hover {\n",
              "    background-color: var(--disabled-bg-color);\n",
              "    fill: var(--disabled-fill-color);\n",
              "    box-shadow: none;\n",
              "  }\n",
              "\n",
              "  .colab-df-spinner {\n",
              "    border: 2px solid var(--fill-color);\n",
              "    border-color: transparent;\n",
              "    border-bottom-color: var(--fill-color);\n",
              "    animation:\n",
              "      spin 1s steps(1) infinite;\n",
              "  }\n",
              "\n",
              "  @keyframes spin {\n",
              "    0% {\n",
              "      border-color: transparent;\n",
              "      border-bottom-color: var(--fill-color);\n",
              "      border-left-color: var(--fill-color);\n",
              "    }\n",
              "    20% {\n",
              "      border-color: transparent;\n",
              "      border-left-color: var(--fill-color);\n",
              "      border-top-color: var(--fill-color);\n",
              "    }\n",
              "    30% {\n",
              "      border-color: transparent;\n",
              "      border-left-color: var(--fill-color);\n",
              "      border-top-color: var(--fill-color);\n",
              "      border-right-color: var(--fill-color);\n",
              "    }\n",
              "    40% {\n",
              "      border-color: transparent;\n",
              "      border-right-color: var(--fill-color);\n",
              "      border-top-color: var(--fill-color);\n",
              "    }\n",
              "    60% {\n",
              "      border-color: transparent;\n",
              "      border-right-color: var(--fill-color);\n",
              "    }\n",
              "    80% {\n",
              "      border-color: transparent;\n",
              "      border-right-color: var(--fill-color);\n",
              "      border-bottom-color: var(--fill-color);\n",
              "    }\n",
              "    90% {\n",
              "      border-color: transparent;\n",
              "      border-bottom-color: var(--fill-color);\n",
              "    }\n",
              "  }\n",
              "</style>\n",
              "\n",
              "      <script>\n",
              "        async function quickchart(key) {\n",
              "          const quickchartButtonEl =\n",
              "            document.querySelector('#' + key + ' button');\n",
              "          quickchartButtonEl.disabled = true;  // To prevent multiple clicks.\n",
              "          quickchartButtonEl.classList.add('colab-df-spinner');\n",
              "          try {\n",
              "            const charts = await google.colab.kernel.invokeFunction(\n",
              "                'suggestCharts', [key], {});\n",
              "          } catch (error) {\n",
              "            console.error('Error during call to suggestCharts:', error);\n",
              "          }\n",
              "          quickchartButtonEl.classList.remove('colab-df-spinner');\n",
              "          quickchartButtonEl.classList.add('colab-df-quickchart-complete');\n",
              "        }\n",
              "        (() => {\n",
              "          let quickchartButtonEl =\n",
              "            document.querySelector('#df-24aa14d5-e03b-4464-be6b-044695695445 button');\n",
              "          quickchartButtonEl.style.display =\n",
              "            google.colab.kernel.accessAllowed ? 'block' : 'none';\n",
              "        })();\n",
              "      </script>\n",
              "    </div>\n",
              "\n",
              "    </div>\n",
              "  </div>\n"
            ],
            "application/vnd.google.colaboratory.intrinsic+json": {
              "type": "dataframe",
              "variable_name": "df",
              "summary": "{\n  \"name\": \"df\",\n  \"rows\": 646,\n  \"fields\": [\n    {\n      \"column\": \"UF\",\n      \"properties\": {\n        \"dtype\": \"category\",\n        \"num_unique_values\": 1,\n        \"samples\": [\n          \"SP\"\n        ],\n        \"semantic_type\": \"\",\n        \"description\": \"\"\n      }\n    },\n    {\n      \"column\": \"Codigo\",\n      \"properties\": {\n        \"dtype\": \"number\",\n        \"std\": 16921,\n        \"min\": 3500105,\n        \"max\": 3599919,\n        \"num_unique_values\": 646,\n        \"samples\": [\n          3556958\n        ],\n        \"semantic_type\": \"\",\n        \"description\": \"\"\n      }\n    },\n    {\n      \"column\": \"Municipio\",\n      \"properties\": {\n        \"dtype\": \"string\",\n        \"num_unique_values\": 646,\n        \"samples\": [\n          \"Vit\\u00f3ria Brasil\"\n        ],\n        \"semantic_type\": \"\",\n        \"description\": \"\"\n      }\n    },\n    {\n      \"column\": \"Populacao\",\n      \"properties\": {\n        \"dtype\": \"number\",\n        \"std\": 464421.00091492385,\n        \"min\": 907.0,\n        \"max\": 11451999.0,\n        \"num_unique_values\": 638,\n        \"samples\": [\n          18627.0\n        ],\n        \"semantic_type\": \"\",\n        \"description\": \"\"\n      }\n    },\n    {\n      \"column\": \"Ranking\",\n      \"properties\": {\n        \"dtype\": \"number\",\n        \"std\": 186,\n        \"min\": 1,\n        \"max\": 646,\n        \"num_unique_values\": 646,\n        \"samples\": [\n          634\n        ],\n        \"semantic_type\": \"\",\n        \"description\": \"\"\n      }\n    }\n  ]\n}"
            }
          },
          "metadata": {},
          "execution_count": 52
        }
      ]
    },
    {
      "cell_type": "markdown",
      "source": [
        "### 5. Gráfico População x Ranking"
      ],
      "metadata": {
        "id": "p461kxJg5XG2"
      }
    },
    {
      "cell_type": "code",
      "source": [
        "import matplotlib.ticker as mticker"
      ],
      "metadata": {
        "id": "AeNSEJBa6o0a"
      },
      "execution_count": 53,
      "outputs": []
    },
    {
      "cell_type": "code",
      "source": [
        "plt.figure(figsize=(10,6))\n",
        "plt.scatter(df['Ranking'], df['Populacao'], color='steelblue')\n",
        "\n",
        "# 🧮 Ajuste automático da unidade de medida (mil ou milhões)\n",
        "max_pop = df['Populacao'].max()\n",
        "if max_pop > 1_000_000:\n",
        "    divisor = 1_000_000\n",
        "    unidade = \"milhões de habitantes\"\n",
        "else:\n",
        "    divisor = 1_000\n",
        "    unidade = \"mil habitantes\"\n",
        "\n",
        "# Configurar eixos e título\n",
        "plt.ylabel(f\"População ({unidade})\", fontsize=12)\n",
        "plt.xlabel(\"Ranking das cidades\", fontsize=12)\n",
        "plt.title(\"Distribuição de População - Estado de São Paulo (2022)\", fontsize=14)\n",
        "\n",
        "# Ajustar valores do eixo Y para a unidade correta\n",
        "plt.gca().yaxis.set_major_formatter(mticker.FuncFormatter(lambda x, _: f'{x/divisor:,.1f}'))\n",
        "\n",
        "# Selecionar cidades de referência\n",
        "maior = df.iloc[0]\n",
        "menor = df.iloc[-1]\n",
        "intermed_idx = [len(df)//4, len(df)//2, 3*len(df)//4]\n",
        "intermed = df.iloc[intermed_idx]\n",
        "\n",
        "referencias = pd.concat([maior.to_frame().T, intermed, menor.to_frame().T])\n",
        "\n",
        "# Adicionar rótulos ao gráfico\n",
        "for _, row in referencias.iterrows():\n",
        "    plt.text(row['Ranking'], row['Populacao']*1.05, row['Municipio'],\n",
        "             fontsize=9, ha='center', rotation=45)\n",
        "\n",
        "plt.grid(True, which=\"both\", ls=\"--\", lw=0.5)\n",
        "plt.tight_layout()\n",
        "plt.show()\n",
        "\n",
        "\n",
        ""
      ],
      "metadata": {
        "colab": {
          "base_uri": "https://localhost:8080/",
          "height": 607
        },
        "id": "5c_T4iCw5cuK",
        "outputId": "fce93826-36ef-4e2d-f681-8ab30c1ebed8"
      },
      "execution_count": 54,
      "outputs": [
        {
          "output_type": "display_data",
          "data": {
            "text/plain": [
              "<Figure size 1000x600 with 1 Axes>"
            ],
            "image/png": "[encoded data removed]"
          },
          "metadata": {}
        }
      ]
    },
    {
      "cell_type": "markdown",
      "source": [
        "### 6.Gráfico log-log (Lei de Zipf)"
      ],
      "metadata": {
        "id": "qYeaFCIG8UN2"
      }
    },
    {
      "cell_type": "code",
      "source": [
        "df['log_ranking'] = np.log10(df['Ranking'])\n",
        "df['log_pop'] = np.log10(df['Populacao'])\n",
        "\n",
        "plt.figure(figsize=(8,6))\n",
        "plt.scatter(df['log_ranking'], df['log_pop'], color='purple')\n",
        "plt.xlabel(\"log(Ranking)\")\n",
        "plt.ylabel(\"log(População)\")\n",
        "plt.title(\"Lei de Zipf - Estado de São Paulo\")\n",
        "plt.grid(True)\n",
        "plt.show()"
      ],
      "metadata": {
        "colab": {
          "base_uri": "https://localhost:8080/",
          "height": 564
        },
        "id": "d4T-ZYX28Gze",
        "outputId": "8815f5b3-db00-4090-8abc-34ea44b06020"
      },
      "execution_count": 55,
      "outputs": [
        {
          "output_type": "display_data",
          "data": {
            "text/plain": [
              "<Figure size 800x600 with 1 Axes>"
            ],
            "image/png": "[encoded data removed]"
          },
          "metadata": {}
        }
      ]
    },
    {
      "cell_type": "markdown",
      "source": [],
      "metadata": {
        "id": "32atNJNb2pI7"
      }
    },
    {
      "cell_type": "markdown",
      "source": [
        "### 7.Ajuste linear (Lei de Zipf)"
      ],
      "metadata": {
        "id": "FPEHhPK_8lHG"
      }
    },
    {
      "cell_type": "code",
      "source": [
        "coef = np.polyfit(df['log_ranking'], df['log_pop'], 1)\n",
        "q = -coef[0]      # coeficiente da Lei de Zipf\n",
        "intercept = coef[1]"
      ],
      "metadata": {
        "id": "8ArrGltM8qtm"
      },
      "execution_count": 56,
      "outputs": []
    },
    {
      "cell_type": "markdown",
      "source": [
        "### 8. Calcular R²"
      ],
      "metadata": {
        "id": "muz5UyJt8v7f"
      }
    },
    {
      "cell_type": "code",
      "source": [
        "pred = np.polyval(coef, df['log_ranking'])\n",
        "r2 = 1 - np.sum((df['log_pop'] - pred)**2) / np.sum((df['log_pop'] - np.mean(df['log_pop']))**2)"
      ],
      "metadata": {
        "id": "Ji2SWb2b81w5"
      },
      "execution_count": 57,
      "outputs": []
    },
    {
      "cell_type": "markdown",
      "source": [
        "### 9. Gráfico com linha de tendência"
      ],
      "metadata": {
        "id": "r_4Qjd28878U"
      }
    },
    {
      "cell_type": "code",
      "source": [
        "plt.figure(figsize=(8,6))\n",
        "plt.scatter(df['log_ranking'], df['log_pop'], label=\"Municípios\", alpha=0.7)\n",
        "plt.plot(df['log_ranking'], pred, color='red', label=f\"Ajuste linear\\nq = {q:.2f}, R² = {r2:.3f}\")\n",
        "plt.xlabel(\"log(Ranking)\")\n",
        "plt.ylabel(\"log(População)\")\n",
        "plt.title(\"Ajuste da Lei de Zipf - Estado de São Paulo (2022)\")\n",
        "plt.legend()\n",
        "plt.grid(True)\n",
        "plt.show()"
      ],
      "metadata": {
        "colab": {
          "base_uri": "https://localhost:8080/",
          "height": 564
        },
        "id": "HH_LPtKF8-OV",
        "outputId": "c081d162-a65a-4f01-b227-6d6113091704"
      },
      "execution_count": 58,
      "outputs": [
        {
          "output_type": "display_data",
          "data": {
            "text/plain": [
              "<Figure size 800x600 with 1 Axes>"
            ],
            "image/png": "[encoded data removed]"
          },
          "metadata": {}
        }
      ]
    },
    {
      "cell_type": "markdown",
      "source": [
        "### 10. Resultados finais"
      ],
      "metadata": {
        "id": "w7eHmArY9KCu"
      }
    },
    {
      "cell_type": "code",
      "source": [
        "print(f\"Coeficiente de inclinação (q): {q:.2f}\")\n",
        "print(f\"Coeficiente de determinação (R²): {r2:.3f}\")"
      ],
      "metadata": {
        "colab": {
          "base_uri": "https://localhost:8080/"
        },
        "id": "BblcwWCr9Ooz",
        "outputId": "352c47e8-be19-44e5-dd62-24fb4d8e9915"
      },
      "execution_count": 59,
      "outputs": [
        {
          "output_type": "stream",
          "name": "stdout",
          "text": [
            "Coeficiente de inclinação (q): nan\n",
            "Coeficiente de determinação (R²): 1.000\n"
          ]
        }
      ]
    }
  ]
}