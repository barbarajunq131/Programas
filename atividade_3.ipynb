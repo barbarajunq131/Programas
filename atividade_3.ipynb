{
  "nbformat": 4,
  "nbformat_minor": 0,
  "metadata": {
    "colab": {
      "provenance": [],
      "authorship_tag": "ABX9TyNClbkmsnqB1wS5eBtANlcE",
      "include_colab_link": true
    },
    "kernelspec": {
      "name": "python3",
      "display_name": "Python 3"
    },
    "language_info": {
      "name": "python"
    }
  },
  "cells": [
    {
      "cell_type": "markdown",
      "metadata": {
        "id": "view-in-github",
        "colab_type": "text"
      },
      "source": [
        "<a href=\"https://colab.research.google.com/github/barbarajunq131/Programas/blob/main/atividade_3.ipynb\" target=\"_parent\"><img src=\"https://colab.research.google.com/assets/colab-badge.svg\" alt=\"Open In Colab\"/></a>"
      ]
    },
    {
      "cell_type": "markdown",
      "source": [
        "Disciplina :  CEA0007 - PROBABILIDADE E INFERÊNCIA ESTATÍSTICA - T01 (2025.2) /n\n",
        "\n",
        "Aluna: Bárbara Junqueira dos Santos /n\n",
        "\n",
        "Matricula: 20252001826 /n\n",
        "\n",
        "Lista de exercício: 03/n\n",
        "\n",
        "link do colab: https://github.com/barbarajunq131/Programas/blob/501c5f845e9bf7d7ddfc7b579a1f9160339656c2/Lista_exercicio_1__Probabilidade.ipynb"
      ],
      "metadata": {
        "id": "PQXmsPBUL6z9"
      }
    },
    {
      "cell_type": "markdown",
      "source": [
        "### Questão 1 Defina os conceitos de população e amostra.\n",
        "\n",
        "- **População**: conjunto total de indivíduos, elementos ou unidades que possuem pelo menos uma característica em comum e que são objeto de estudo.  \n",
        "- **Amostra**: subconjunto da população, selecionado de acordo com critérios específicos, utilizado para realizar inferências sobre a população como um todo.\n"
      ],
      "metadata": {
        "id": "dOOwQZTKRSCD"
      }
    },
    {
      "cell_type": "markdown",
      "source": [
        "### Questão 2 Explique por que usamos amostras em vez de estudar toda a população.\n",
        "\n",
        "Utilizamos amostras porque, em geral, estudar toda a população é inviável por motivos de **custo**, **tempo** ou **acessibilidade**. Ao trabalhar com uma amostra representativa, é possível obter estimativas confiáveis da população de forma mais prática e eficiente.\n"
      ],
      "metadata": {
        "id": "9KH25IQFRXMb"
      }
    },
    {
      "cell_type": "markdown",
      "source": [
        "### Questão 3 Qual é a diferença entre uma amostra probabilística e uma amostra não probabilística?\n",
        "\n",
        "- **Amostra probabilística**: todos os elementos da população têm **probabilidade conhecida e diferente de zero** de serem selecionados. Ex.: amostragem aleatória simples.  \n",
        "- **Amostra não probabilística**: a escolha dos elementos depende do critério do pesquisador, sem probabilidade conhecida de seleção. Ex.: amostragem por conveniência.\n"
      ],
      "metadata": {
        "id": "wlpG1P79RbOi"
      }
    },
    {
      "cell_type": "markdown",
      "source": [
        "### Questão 4 Defina o que é viés de amostragem e cite um exemplo.\n",
        "\n",
        "O **viés de amostragem** ocorre quando a forma de selecionar a amostra favorece determinados elementos da população, comprometendo a representatividade e a validade dos resultados.  \n",
        "**Exemplo**: pesquisar apenas em bairros centrais para estimar a renda média de toda a cidade.\n",
        "\n"
      ],
      "metadata": {
        "id": "0YpcKFwYRkTD"
      }
    },
    {
      "cell_type": "markdown",
      "source": [
        "### Questão 5 Defina erro amostral e explique como ele pode ser minimizado.\n",
        "\n",
        "O **erro amostral** é a diferença entre o valor estimado a partir da amostra e o valor verdadeiro da população.  \n",
        "Ele pode ser **minimizado** aumentando o **tamanho da amostra**, garantindo **aleatoriedade na seleção** e utilizando técnicas de amostragem adequadas.\n",
        "\n"
      ],
      "metadata": {
        "id": "4dh24qS5Rntr"
      }
    },
    {
      "cell_type": "markdown",
      "source": [
        "### Questão 6 População: 15 moradores com idades listadas. Amostras A, B, C e D.\n"
      ],
      "metadata": {
        "id": "j_ehcKV9Rreb"
      }
    },
    {
      "cell_type": "code",
      "source": [
        "import numpy as np\n",
        "\n",
        "# População\n",
        "populacao = np.array([18, 19, 21, 22, 28, 34, 43, 47, 49, 50, 51, 53, 60, 63, 66])\n",
        "\n",
        "# Amostras\n",
        "A = np.array([18, 21, 28])\n",
        "B = np.array([47, 49, 50])\n",
        "C = np.array([51, 60, 66])\n",
        "D = np.array([21, 47, 60])\n",
        "\n",
        "# Média populacional\n",
        "mu = np.mean(populacao)\n",
        "print(\"Média populacional:\", mu)\n",
        "\n",
        "# Médias amostrais\n",
        "amostras = {\"A\": A, \"B\": B, \"C\": C, \"D\": D}\n",
        "medias = {k: np.mean(v) for k,v in amostras.items()}\n",
        "print(\"Médias amostrais:\", medias)\n",
        "\n",
        "# Erro amostral\n",
        "erros = {k: mu - m for k,m in medias.items()}\n",
        "print(\"Erros amostrais:\", erros)\n"
      ],
      "metadata": {
        "colab": {
          "base_uri": "https://localhost:8080/"
        },
        "id": "j5SsBRtJR4D9",
        "outputId": "9eb7cc4c-7c04-42cd-8fde-3b07a74f5e57"
      },
      "execution_count": 4,
      "outputs": [
        {
          "output_type": "stream",
          "name": "stdout",
          "text": [
            "Média populacional: 41.6\n",
            "Médias amostrais: {'A': np.float64(22.333333333333332), 'B': np.float64(48.666666666666664), 'C': np.float64(59.0), 'D': np.float64(42.666666666666664)}\n",
            "Erros amostrais: {'A': np.float64(19.26666666666667), 'B': np.float64(-7.066666666666663), 'C': np.float64(-17.4), 'D': np.float64(-1.0666666666666629)}\n"
          ]
        }
      ]
    },
    {
      "cell_type": "markdown",
      "source": [
        "### Análise da Questão 6\n",
        "\n",
        "- **Média populacional (μ):** corresponde ao valor real da população.  \n",
        "- **Médias amostrais (x̄):** variam conforme a composição da amostra.  \n",
        "- **Erro amostral (μ − x̄):** mede a diferença entre a média amostral e a média populacional.  \n",
        "\n",
        "**Viés de seleção:**  \n",
        "- Ocorre quando a amostra favorece certos grupos da população.  \n",
        "- Exemplo: a amostra **C = {51, 60, 66}** contém apenas indivíduos mais velhos, ignorando os mais jovens, o que gera uma média elevada e distorcida em relação à população.  \n",
        "- Da mesma forma, a amostra **A = {18, 21, 28}** contém apenas indivíduos jovens, subestimando a média populacional.  \n",
        "- Nessas situações, dizemos que há viés de seleção.\n",
        "\n",
        "**Amostras representativas:**  \n",
        "- Uma amostra representativa deve conter elementos de diferentes faixas etárias da população.  \n",
        "- A amostra **B = {47, 49, 50}** é composta por idades próximas da média da população, sendo mais próxima de representativa.  \n",
        "- A amostra **D = {21, 47, 60}** mistura jovens, adultos e idosos, sendo considerada a mais **representativa**, pois capta melhor a variabilidade da população.  \n",
        "\n"
      ],
      "metadata": {
        "id": "QNB6QxhtSAw1"
      }
    },
    {
      "cell_type": "markdown",
      "source": [
        "### Questão 7 O que é a distribuição amostral da média? Para que ela serve?\n",
        "\n",
        "A **distribuição amostral da média** é a distribuição de todas as médias possíveis calculadas a partir de amostras de mesmo tamanho retiradas da mesma população.  \n",
        "Ela serve para estudar o comportamento do estimador da média, possibilitando a construção de intervalos de confiança e a realização de testes de hipóteses.\n",
        "\n"
      ],
      "metadata": {
        "id": "JA0XHgI1SLp8"
      }
    },
    {
      "cell_type": "markdown",
      "source": [
        "### Questão 8 Explique como o tamanho da amostra influencia o desvio padrão da distribuição amostral da média.\n",
        "\n",
        "O desvio padrão da distribuição amostral da média, chamado de **erro padrão da média**, diminui à medida que o tamanho da amostra aumenta.  \n",
        "Isso ocorre porque, com mais observações, a média da amostra tende a ser mais próxima da média verdadeira da população.\n",
        "\n"
      ],
      "metadata": {
        "id": "kFkRQwQ0SRkF"
      }
    },
    {
      "cell_type": "markdown",
      "source": [
        "### Questão 9 Por que a distribuição da média amostral é aproximadamente normal mesmo quando a população não é normal?\n",
        "\n",
        "Devido ao **Teorema Central do Limite**, que afirma que, para amostras de tamanho suficientemente grande, a distribuição da média amostral se aproxima de uma **distribuição normal**, independentemente do formato da distribuição da população.\n",
        "\n"
      ],
      "metadata": {
        "id": "2vpqkyDxSUvV"
      }
    },
    {
      "cell_type": "markdown",
      "source": [
        "### Questão 10 Explique o que é um estimador pontual e dê exemplos de estimadores pontuais amplamente utilizados.\n",
        "\n",
        "Um **estimador pontual** é uma estatística calculada a partir da amostra que fornece uma única estimativa para um parâmetro da população.  \n",
        "**Exemplos**:  \n",
        "- A média amostral (estimador da média populacional).  \n",
        "- A proporção amostral (estimador da proporção populacional).  \n",
        "- A variância amostral (estimador da variância populacional).\n",
        "\n"
      ],
      "metadata": {
        "id": "EJqERYKjSXtk"
      }
    },
    {
      "cell_type": "markdown",
      "source": [
        "### Questão 11 Explique o significado de intervalo de confiança de 90%.\n",
        "\n",
        "Um **intervalo de confiança de 90%** significa que, se repetíssemos o processo de amostragem diversas vezes e calculássemos intervalos da mesma forma, **em aproximadamente 90% dessas repetições o intervalo conteria o verdadeiro valor do parâmetro populacional**.\n",
        "\n"
      ],
      "metadata": {
        "id": "2PF8Djz_Sam0"
      }
    },
    {
      "cell_type": "markdown",
      "source": [
        "### Questão 12 Determine o intervalo de confiança de 95% para a variável RendaMensal.\n"
      ],
      "metadata": {
        "id": "H9FbQRIkSdVV"
      }
    },
    {
      "cell_type": "code",
      "source": [
        "import pandas as pd\n",
        "from scipy import stats\n",
        "\n",
        "# Carregar a base de dados (certifique-se de enviar para o Colab antes)\n",
        "df = pd.read_csv('dados_politica_publica.csv')\n",
        "\n",
        "# Selecionar a variável RendaMensal\n",
        "renda = df['RendaMensal'].dropna()\n",
        "\n",
        "# Calcular média e desvio padrão\n",
        "mean = renda.mean()\n",
        "sem = stats.sem(renda)\n",
        "\n",
        "# Intervalo de confiança de 95%\n",
        "ic = stats.t.interval(0.95, len(renda)-1, loc=mean, scale=sem)\n",
        "\n",
        "print(\"Média RendaMensal:\", mean)\n",
        "print(\"Intervalo de Confiança 95%:\", ic)\n"
      ],
      "metadata": {
        "colab": {
          "base_uri": "https://localhost:8080/"
        },
        "id": "jW2sHzntSm59",
        "outputId": "dd8d6e95-f684-4471-e2e7-9a1bc3c92af5"
      },
      "execution_count": 5,
      "outputs": [
        {
          "output_type": "stream",
          "name": "stdout",
          "text": [
            "Média RendaMensal: 1803.939626\n",
            "Intervalo de Confiança 95%: (np.float64(1790.256974185407), np.float64(1817.6222778145932))\n"
          ]
        }
      ]
    }
  ]
}