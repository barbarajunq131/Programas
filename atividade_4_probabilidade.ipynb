{
  "nbformat": 4,
  "nbformat_minor": 0,
  "metadata": {
    "colab": {
      "provenance": [],
      "authorship_tag": "ABX9TyNJQFOlQRIKWZUvfmSvAz7T",
      "include_colab_link": true
    },
    "kernelspec": {
      "name": "python3",
      "display_name": "Python 3"
    },
    "language_info": {
      "name": "python"
    }
  },
  "cells": [
    {
      "cell_type": "markdown",
      "metadata": {
        "id": "view-in-github",
        "colab_type": "text"
      },
      "source": [
        "<a href=\"https://colab.research.google.com/github/barbarajunq131/Programas/blob/main/atividade_4_probabilidade.ipynb\" target=\"_parent\"><img src=\"https://colab.research.google.com/assets/colab-badge.svg\" alt=\"Open In Colab\"/></a>"
      ]
    },
    {
      "cell_type": "markdown",
      "source": [
        "Disciplina :  CEA0007 - PROBABILIDADE E INFERÊNCIA ESTATÍSTICA - T01 (2025.2) /n\n",
        "\n",
        "Aluna: Bárbara Junqueira dos Santos /n\n",
        "\n",
        "Matricula: 20252001826 /n\n",
        "\n",
        "Lista de exercício: 04/n\n",
        "\n",
        "link do colab: https://colab.research.google.com/drive/17w0faXcJorq1DtdGuql_mpgtQOsQWAaH#scrollTo=PQXmsPBUL6z9"
      ],
      "metadata": {
        "id": "PQXmsPBUL6z9"
      }
    },
    {
      "cell_type": "code",
      "source": [
        "import pandas as pd\n",
        "import numpy as np\n",
        "from scipy import stats"
      ],
      "metadata": {
        "id": "txVACz7sYkKn"
      },
      "execution_count": 8,
      "outputs": []
    },
    {
      "cell_type": "code",
      "source": [
        "# Carregar os dados\n",
        "\n",
        "file_path = \"/content/dados_politica_publica.csv\"\n",
        "\n",
        "dados = pd.read_csv(file_path)"
      ],
      "metadata": {
        "id": "U-z3etXTYkE0"
      },
      "execution_count": 9,
      "outputs": []
    },
    {
      "cell_type": "code",
      "source": [
        "# Selecionar as 100 primeiras linhas conforme enunciado\n",
        "dados_100 = dados.head(100)"
      ],
      "metadata": {
        "id": "OsmvQdbRY-CJ"
      },
      "execution_count": 10,
      "outputs": []
    },
    {
      "cell_type": "markdown",
      "source": [
        "### Questão 1 - Questões teóricas\n",
        "\n",
        "\n",
        "\n",
        "###1.a) Hipótese nula (H0): afirma que não há efeito ou diferença.\n",
        "Exemplo: média populacional = 1500.\n",
        "Hipótese alternativa (H1): afirma que existe efeito ou diferença.\n",
        "\n",
        "\n",
        "###1.b) Erro Tipo I (α): rejeitar H0 quando ela é verdadeira.\n",
        "Erro Tipo II (β): não rejeitar H0 quando ela é falsa.\n",
        "\n",
        "\n",
        "###1.c) Valor-p: probabilidade de observarmos um resultado tão extremo quanto o obtido,\n",
        "assumindo que H0 seja verdadeira. Se valor-p < nível de significância, rejeitamos H0.\n",
        "\n",
        "\n",
        "###1.d) Nível de significância: probabilidade máxima de cometer erro Tipo I (ex.: 5%).\n",
        "\n",
        "\n",
        "###1.e) Estatística do teste: medida calculada a partir dos dados usada para decidir se rejeitamos H0."
      ],
      "metadata": {
        "id": "dOOwQZTKRSCD"
      }
    },
    {
      "cell_type": "markdown",
      "source": [
        "### Questão 2 - Teste t para uma amostra\n",
        "### H0: mu = 1500 | H1: mu != 1500"
      ],
      "metadata": {
        "id": "9KH25IQFRXMb"
      }
    },
    {
      "cell_type": "code",
      "source": [
        "renda = dados_100[\"RendaMensal\"]\n",
        "\n",
        "\n",
        "# a) Média amostral\n",
        "media_amostral = renda.mean()\n",
        "\n",
        "\n",
        "# b) Teste t (uma amostra)\n",
        "t_stat, p_valor = stats.ttest_1samp(renda, popmean=1500)\n",
        "\n",
        "\n",
        "# e) Normalidade (Shapiro-Wilk)\n",
        "shapiro_stat, shapiro_p = stats.shapiro(renda)\n",
        "\n",
        "\n",
        "print(\"\\n--- Questão 2 ---\")\n",
        "print(f\"Média amostral: {media_amostral:.2f}\")\n",
        "print(f\"Estatística do teste t: {t_stat:.4f}\")\n",
        "print(f\"Valor-p: {p_valor:.4f}\")\n",
        "print(\"Rejeita H0?\", \"Sim\" if p_valor < 0.05 else \"Não\")\n",
        "print(f\"Shapiro-Wilk p-valor (normalidade): {shapiro_p:.4f}\")\n"
      ],
      "metadata": {
        "colab": {
          "base_uri": "https://localhost:8080/"
        },
        "id": "mjqrQr5oaVhw",
        "outputId": "ebe0d591-f4dd-4ed9-a17b-c7389c0a9054"
      },
      "execution_count": 11,
      "outputs": [
        {
          "output_type": "stream",
          "name": "stdout",
          "text": [
            "\n",
            "--- Questão 2 ---\n",
            "Média amostral: 1934.00\n",
            "Estatística do teste t: 6.4614\n",
            "Valor-p: 0.0000\n",
            "Rejeita H0? Sim\n",
            "Shapiro-Wilk p-valor (normalidade): 0.3557\n"
          ]
        }
      ]
    },
    {
      "cell_type": "markdown",
      "source": [
        "### Questão 3 - Teste t para duas amostras dependentes\n",
        "### H0: mu1 = mu2 | H1: mu1 != mu2\n",
        "\n"
      ],
      "metadata": {
        "id": "wlpG1P79RbOi"
      }
    },
    {
      "cell_type": "code",
      "source": [
        "renda_antes = dados_100[\"RendaAntes\"]\n",
        "\n",
        "\n",
        "# Paired t-test\n",
        "t_stat_p, p_valor_p = stats.ttest_rel(renda, renda_antes)\n",
        "\n",
        "\n",
        "# Diferença para teste de normalidade\n",
        "dif = renda - renda_antes\n",
        "shapiro_stat_d, shapiro_p_d = stats.shapiro(dif)\n",
        "\n",
        "\n",
        "print(\"\\n--- Questão 3 ---\")\n",
        "print(f\"Estatística do teste t pareado: {t_stat_p:.4f}\")\n",
        "print(f\"Valor-p: {p_valor_p:.4f}\")\n",
        "print(\"Rejeita H0?\", \"Sim\" if p_valor_p < 0.05 else \"Não\")\n",
        "print(f\"Shapiro-Wilk p-valor da diferença: {shapiro_p_d:.4f}\")\n"
      ],
      "metadata": {
        "colab": {
          "base_uri": "https://localhost:8080/"
        },
        "id": "JKQ4JeXhaoaJ",
        "outputId": "7133e30f-8fc4-48f5-d619-32ca11f60fbf"
      },
      "execution_count": 12,
      "outputs": [
        {
          "output_type": "stream",
          "name": "stdout",
          "text": [
            "\n",
            "--- Questão 3 ---\n",
            "Estatística do teste t pareado: 35.5487\n",
            "Valor-p: 0.0000\n",
            "Rejeita H0? Sim\n",
            "Shapiro-Wilk p-valor da diferença: 0.9946\n"
          ]
        }
      ]
    },
    {
      "cell_type": "markdown",
      "source": [
        "### Questão 4 - Teste Qui-quadrado de independência\n",
        "### H0: variáveis são independentes | H1: há associação\n",
        "\n",
        "\n"
      ],
      "metadata": {
        "id": "0YpcKFwYRkTD"
      }
    },
    {
      "cell_type": "code",
      "source": [
        "tab = pd.crosstab(dados_100[\"TemInternet\"], dados_100[\"EvasaoEscolar\"])\n",
        "chi2_stat, chi2_p, chi2_dof, chi2_exp = stats.chi2_contingency(tab)\n",
        "\n",
        "\n",
        "print(\"\\n--- Questão 4 ---\")\n",
        "print(\"Tabela de contingência:\\n\", tab)\n",
        "print(f\"Estatística qui-quadrado: {chi2_stat:.4f}\")\n",
        "print(f\"Valor-p: {chi2_p:.4f}\")\n",
        "print(f\"Graus de liberdade: {chi2_dof}\")\n",
        "print(\"Rejeita H0?\", \"Sim\" if chi2_p < 0.05 else \"Não\")"
      ],
      "metadata": {
        "colab": {
          "base_uri": "https://localhost:8080/"
        },
        "id": "mjF9Ki9aaxyQ",
        "outputId": "120a2915-1635-4496-e3fe-2d0227a48576"
      },
      "execution_count": 13,
      "outputs": [
        {
          "output_type": "stream",
          "name": "stdout",
          "text": [
            "\n",
            "--- Questão 4 ---\n",
            "Tabela de contingência:\n",
            " EvasaoEscolar  Não  Sim\n",
            "TemInternet            \n",
            "Não             25   17\n",
            "Sim             42   16\n",
            "Estatística qui-quadrado: 1.2940\n",
            "Valor-p: 0.2553\n",
            "Graus de liberdade: 1\n",
            "Rejeita H0? Não\n"
          ]
        }
      ]
    }
  ]
}